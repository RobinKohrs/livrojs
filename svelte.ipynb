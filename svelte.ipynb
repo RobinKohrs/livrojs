{
  "cells": [
    {
      "cell_type": "markdown",
      "metadata": {},
      "source": [
        "# Svelte\n",
        "\n",
        "\n",
        "## Loading data\n",
        "\n",
        "\n",
        "\n",
        "```{js}\n",
        "let a = \"a\"\n",
        "```"
      ],
      "id": "5b90b43a"
    }
  ],
  "metadata": {
    "kernelspec": {
      "display_name": "Python 3",
      "language": "python",
      "name": "python3"
    }
  },
  "nbformat": 4,
  "nbformat_minor": 5
}